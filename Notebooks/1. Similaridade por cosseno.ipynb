{
 "cells": [
  {
   "cell_type": "markdown",
   "metadata": {},
   "source": [
    "# 1. Similaridade por cosseno\n",
    "\n",
    "Neste exemplo iremos entender como funciona um sistema de recomendação que calcula a similaridade entre objetos utilizando produto escalar."
   ]
  },
  {
   "cell_type": "code",
   "execution_count": 147,
   "metadata": {
    "collapsed": true
   },
   "outputs": [],
   "source": [
    "# Carregando tabelas users, reviews, places\n",
    "# users: Alan, Barbara, Carlos, Denis, Edgar\n",
    "# reviews: uid, pid, value\n",
    "# places: 3 sushis, 3 pizzarias, 3 cantinas, 2 fast-food\n",
    "\n",
    "%matplotlib inline\n",
    "import matplotlib.pyplot as plt\n",
    "import pandas as pd\n",
    "import numpy as np\n",
    "import math"
   ]
  },
  {
   "cell_type": "code",
   "execution_count": 148,
   "metadata": {
    "collapsed": true
   },
   "outputs": [],
   "source": [
    "# Carregando tableas\n",
    "users = pd.read_csv(\"../data/users.csv\")\n",
    "reviews = pd.read_csv(\"../data/reviews.csv\")\n",
    "places = pd.read_csv(\"../data/places.csv\")"
   ]
  },
  {
   "cell_type": "code",
   "execution_count": 149,
   "metadata": {},
   "outputs": [
    {
     "data": {
      "text/html": [
       "<div>\n",
       "<table border=\"1\" class=\"dataframe\">\n",
       "  <thead>\n",
       "    <tr style=\"text-align: right;\">\n",
       "      <th></th>\n",
       "      <th>id</th>\n",
       "      <th>name</th>\n",
       "    </tr>\n",
       "  </thead>\n",
       "  <tbody>\n",
       "    <tr>\n",
       "      <th>0</th>\n",
       "      <td>1</td>\n",
       "      <td>Alan</td>\n",
       "    </tr>\n",
       "    <tr>\n",
       "      <th>1</th>\n",
       "      <td>2</td>\n",
       "      <td>Bárbara</td>\n",
       "    </tr>\n",
       "    <tr>\n",
       "      <th>2</th>\n",
       "      <td>3</td>\n",
       "      <td>Carlos</td>\n",
       "    </tr>\n",
       "    <tr>\n",
       "      <th>3</th>\n",
       "      <td>4</td>\n",
       "      <td>Dênis</td>\n",
       "    </tr>\n",
       "    <tr>\n",
       "      <th>4</th>\n",
       "      <td>5</td>\n",
       "      <td>Edgar</td>\n",
       "    </tr>\n",
       "  </tbody>\n",
       "</table>\n",
       "</div>"
      ],
      "text/plain": [
       "   id     name\n",
       "0   1     Alan\n",
       "1   2  Bárbara\n",
       "2   3   Carlos\n",
       "3   4    Dênis\n",
       "4   5    Edgar"
      ]
     },
     "execution_count": 149,
     "metadata": {},
     "output_type": "execute_result"
    }
   ],
   "source": [
    "users.head()"
   ]
  },
  {
   "cell_type": "code",
   "execution_count": 150,
   "metadata": {},
   "outputs": [
    {
     "data": {
      "text/html": [
       "<div>\n",
       "<table border=\"1\" class=\"dataframe\">\n",
       "  <thead>\n",
       "    <tr style=\"text-align: right;\">\n",
       "      <th></th>\n",
       "      <th>id</th>\n",
       "      <th>name</th>\n",
       "      <th>category</th>\n",
       "    </tr>\n",
       "  </thead>\n",
       "  <tbody>\n",
       "    <tr>\n",
       "      <th>0</th>\n",
       "      <td>1</td>\n",
       "      <td>Sushi do Samurai</td>\n",
       "      <td>Comida Japonesa</td>\n",
       "    </tr>\n",
       "    <tr>\n",
       "      <th>1</th>\n",
       "      <td>2</td>\n",
       "      <td>Temaki do Naruto</td>\n",
       "      <td>Comida Japonesa</td>\n",
       "    </tr>\n",
       "    <tr>\n",
       "      <th>2</th>\n",
       "      <td>3</td>\n",
       "      <td>Pizzaria Brasil</td>\n",
       "      <td>Pizzaria</td>\n",
       "    </tr>\n",
       "    <tr>\n",
       "      <th>3</th>\n",
       "      <td>4</td>\n",
       "      <td>Pizzaria do Chapéu</td>\n",
       "      <td>Pizzaria</td>\n",
       "    </tr>\n",
       "    <tr>\n",
       "      <th>4</th>\n",
       "      <td>5</td>\n",
       "      <td>Pizza Rápida</td>\n",
       "      <td>Pizzaria</td>\n",
       "    </tr>\n",
       "    <tr>\n",
       "      <th>5</th>\n",
       "      <td>6</td>\n",
       "      <td>Cantina Pomodoro</td>\n",
       "      <td>Cantina italiana</td>\n",
       "    </tr>\n",
       "    <tr>\n",
       "      <th>6</th>\n",
       "      <td>7</td>\n",
       "      <td>Italinho</td>\n",
       "      <td>Cantina italiana</td>\n",
       "    </tr>\n",
       "    <tr>\n",
       "      <th>7</th>\n",
       "      <td>8</td>\n",
       "      <td>Mc Gonnago</td>\n",
       "      <td>Fast-food</td>\n",
       "    </tr>\n",
       "    <tr>\n",
       "      <th>8</th>\n",
       "      <td>9</td>\n",
       "      <td>Ramem do Dragão</td>\n",
       "      <td>Comida Japonesa</td>\n",
       "    </tr>\n",
       "    <tr>\n",
       "      <th>9</th>\n",
       "      <td>10</td>\n",
       "      <td>Coxinha instantânea</td>\n",
       "      <td>Fast-food</td>\n",
       "    </tr>\n",
       "  </tbody>\n",
       "</table>\n",
       "</div>"
      ],
      "text/plain": [
       "   id                 name          category\n",
       "0   1     Sushi do Samurai   Comida Japonesa\n",
       "1   2     Temaki do Naruto   Comida Japonesa\n",
       "2   3      Pizzaria Brasil          Pizzaria\n",
       "3   4   Pizzaria do Chapéu          Pizzaria\n",
       "4   5         Pizza Rápida          Pizzaria\n",
       "5   6     Cantina Pomodoro  Cantina italiana\n",
       "6   7             Italinho  Cantina italiana\n",
       "7   8           Mc Gonnago         Fast-food\n",
       "8   9      Ramem do Dragão   Comida Japonesa\n",
       "9  10  Coxinha instantânea         Fast-food"
      ]
     },
     "execution_count": 150,
     "metadata": {},
     "output_type": "execute_result"
    }
   ],
   "source": [
    "places.head(n=10)"
   ]
  },
  {
   "cell_type": "markdown",
   "metadata": {},
   "source": [
    "# Calculando similaridade entre lojas\n",
    "\n",
    "Considere o um vetor `v` onde cada usuário `uid` representa um eixo e a nota atribuída pelo usuário representa a intensidade da direção deste vetor. Para calcular a similaridade entre duas lojas, vamos calcular o cosseno entre estas duas listas de vetores por meio da seguinte fórmula:\n",
    "\n",
    "> SUM(a*b)/(SQRT(SUM(aˆ2)) * SQRT(SUM(bˆ2)))\n",
    "\n",
    "Esta fórmula nos permite calcular a diferença pelo valor do cosseno para o ângulo retornado. Quando os vetores são idênticos o ângulo entre eles é igual 0. Ao calcularmos o cosseno deste ângulo temos que `cos 0 = 1` portanto a similaridade é **máxima**. De forma análoga, quando os vetores forem diferentes o valor será igual a 0.\n",
    "\n",
    "Como estamos trabalhando com notas positivas (notas 0 a 5) é esperado que o resultado esteja sempre entre 0~1."
   ]
  },
  {
   "cell_type": "code",
   "execution_count": 151,
   "metadata": {
    "collapsed": true
   },
   "outputs": [],
   "source": [
    "def cosine(r1=None, r2=None):\n",
    "    \"\"\"\n",
    "    Filter ratings lists by users that evaluated both places. \n",
    "    Each user is considered a vector the we must compare the ratings from same person.\n",
    "    After filtering users we calculate the cosine similarity which will give us the similarity between the two vectors.\n",
    "    The formula for the cosine similarity is:\n",
    "        > SUM(a*b)/(SQRT(SUM(aˆ2)) * SQRT(SUM(bˆ2)))\n",
    "    \"\"\"\n",
    "    \n",
    "    v1 = {r[\"uid\"]: r[\"review\"] for i, r in r1.iterrows()}\n",
    "    v2 = {r[\"uid\"]: r[\"review\"] for i, r in r2.iterrows()}\n",
    "    uids = set(v1.keys()) & set(v2.keys())\n",
    "    \n",
    "    dot = sum([v1[uid] * v2[uid] for uid in uids])\n",
    "    len1 = sum([v1[uid] * v1[uid] for uid in uids])\n",
    "    len2 = sum([v2[uid] * v2[uid] for uid in uids])\n",
    "    \n",
    "    return dot/(math.sqrt(len1) * math.sqrt(len2))"
   ]
  },
  {
   "cell_type": "code",
   "execution_count": 139,
   "metadata": {},
   "outputs": [
    {
     "name": "stdout",
     "output_type": "stream",
     "text": [
      "Total: 100 relacionamentos calculados.\n"
     ]
    }
   ],
   "source": [
    "sims = np.empty((len(places) + 1, len(places) + 1))\n",
    "sims.fill(0)\n",
    "\n",
    "# Selecionar todas as avaliações de usuários que classificaram ambos os lugares\n",
    "for index, place1 in places.iterrows():\n",
    "    for index, place2 in places.iterrows():\n",
    "        sim = cosine(\n",
    "            reviews[reviews[\"pid\"] == place1[\"id\"]],\n",
    "            reviews[reviews[\"pid\"] == place2[\"id\"]]\n",
    "        )\n",
    "        sims[place1[\"id\"]][place2[\"id\"]] = sim\n",
    "        #print(\"sim('{0}', '{1}') = {2}\".format(place1[\"name\"], place2[\"name\"], sim))\n",
    "\n",
    "# Total de relacionamentos calculados\n",
    "print(\"Total: {0} relacionamentos calculados.\".format((sims.shape[0] - 1) * (sims.shape[1] - 1)))"
   ]
  },
  {
   "cell_type": "code",
   "execution_count": 181,
   "metadata": {},
   "outputs": [
    {
     "name": "stdout",
     "output_type": "stream",
     "text": [
      "* Pred('Sushi do Samurai', 'Alan') = 2.09882686281\n",
      "* Pred('Pizza Rápida', 'Alan') = 2.04048972581\n",
      "* Pred('Temaki do Naruto', 'Bárbara') = 2.66418161981\n",
      "* Pred('Coxinha instantânea', 'Bárbara') = 2.63001256678\n",
      "* Pred('Sushi do Samurai', 'Carlos') = 2.24717155272\n",
      "* Pred('Coxinha instantânea', 'Carlos') = 2.33890276625\n",
      "* Pred('Pizza Rápida', 'Dênis') = 2.3476255245\n",
      "* Pred('Cantina Pomodoro', 'Dênis') = 2.40231185607\n",
      "* Pred('Pizzaria Brasil', 'Edgar') = 2.31568400798\n",
      "* Pred('Italinho', 'Edgar') = 2.26472151177\n"
     ]
    }
   ],
   "source": [
    "def predict(pid, reviews):\n",
    "    \"\"\"\n",
    "    Predicts user rating based on previous ratings and similarity between places.\n",
    "    \"\"\"\n",
    "    \n",
    "    s1 = sum([sims[r[\"pid\"]][pid] * r[\"review\"] for i, r in reviews.iterrows()])\n",
    "    s2 = 1 + sum([sims[r[\"pid\"]][pid] for i, r in reviews.iterrows()])\n",
    "    return s1/s2\n",
    "\n",
    "# Prevendo estabelecimento para o usuário\n",
    "for i, user in users.iterrows():\n",
    "    for i, place in places.iterrows():\n",
    "        if not len(reviews[(reviews.uid == user[\"id\"]) & (reviews.pid == place[\"id\"])]):\n",
    "            print(\"* \", end=\"\")\n",
    "            print(\"Pred('{0}', '{1}') = \".format(place[\"name\"], user[\"name\"]), end=\"\")\n",
    "            print(predict(place[\"id\"], reviews[reviews[\"uid\"] == user[\"id\"]]))\n",
    "        \n",
    "        #print(\"Pred('{0}', '{1}') = \".format(place[\"name\"], user[\"name\"]), end=\"\")\n",
    "        #print(predict(place[\"id\"], reviews[reviews[\"uid\"] == user[\"id\"]]))"
   ]
  }
 ],
 "metadata": {
  "kernelspec": {
   "display_name": "Python 3",
   "language": "python",
   "name": "python3"
  },
  "language_info": {
   "codemirror_mode": {
    "name": "ipython",
    "version": 3
   },
   "file_extension": ".py",
   "mimetype": "text/x-python",
   "name": "python",
   "nbconvert_exporter": "python",
   "pygments_lexer": "ipython3",
   "version": "3.5.3"
  }
 },
 "nbformat": 4,
 "nbformat_minor": 2
}
