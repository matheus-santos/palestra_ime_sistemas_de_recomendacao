{
 "cells": [
  {
   "cell_type": "markdown",
   "metadata": {},
   "source": [
    "# 2. Recomendação via factorização de matrizes (SVD)\n",
    "\n",
    "Vamos utilizar a biblioteca Sickit Surprise (http://surpriselib.com/) que abstrai vários algoritmos de recomendação que podemos utilizar para prototipar e validar."
   ]
  },
  {
   "cell_type": "code",
   "execution_count": 18,
   "metadata": {
    "collapsed": true
   },
   "outputs": [],
   "source": [
    "%matplotlib inline\n",
    "\n",
    "from surprise import SVD, Dataset, print_perf\n",
    "from surprise.evaluate import evaluate\n",
    "from surprise.dataset import Reader\n",
    "\n",
    "import matplotlib.pyplot as plt\n",
    "import pandas as pd\n",
    "import numpy as np\n",
    "import math"
   ]
  },
  {
   "cell_type": "code",
   "execution_count": 25,
   "metadata": {},
   "outputs": [],
   "source": [
    "# Carregando tabelas\n",
    "users = pd.read_csv(\"../data/users.csv\")\n",
    "reviews = pd.read_csv(\"../data/reviews.csv\")\n",
    "places = pd.read_csv(\"../data/places.csv\")\n",
    "\n",
    "# Carregando `reviews` no formato especificado pela lib surprise\n",
    "reader = Reader(line_format=\"user item rating\", sep=\",\", rating_scale=(1, 5), skip_lines=1)\n",
    "reviews_set = Dataset.load_from_file(\"../data/reviews.csv\", reader=reader)"
   ]
  },
  {
   "cell_type": "code",
   "execution_count": 26,
   "metadata": {},
   "outputs": [
    {
     "data": {
      "text/html": [
       "<div>\n",
       "<table border=\"1\" class=\"dataframe\">\n",
       "  <thead>\n",
       "    <tr style=\"text-align: right;\">\n",
       "      <th></th>\n",
       "      <th>uid</th>\n",
       "      <th>pid</th>\n",
       "      <th>review</th>\n",
       "    </tr>\n",
       "  </thead>\n",
       "  <tbody>\n",
       "    <tr>\n",
       "      <th>0</th>\n",
       "      <td>1</td>\n",
       "      <td>2</td>\n",
       "      <td>4</td>\n",
       "    </tr>\n",
       "    <tr>\n",
       "      <th>1</th>\n",
       "      <td>1</td>\n",
       "      <td>3</td>\n",
       "      <td>2</td>\n",
       "    </tr>\n",
       "    <tr>\n",
       "      <th>2</th>\n",
       "      <td>1</td>\n",
       "      <td>4</td>\n",
       "      <td>2</td>\n",
       "    </tr>\n",
       "    <tr>\n",
       "      <th>3</th>\n",
       "      <td>1</td>\n",
       "      <td>6</td>\n",
       "      <td>2</td>\n",
       "    </tr>\n",
       "    <tr>\n",
       "      <th>4</th>\n",
       "      <td>1</td>\n",
       "      <td>7</td>\n",
       "      <td>2</td>\n",
       "    </tr>\n",
       "  </tbody>\n",
       "</table>\n",
       "</div>"
      ],
      "text/plain": [
       "   uid  pid  review\n",
       "0    1    2       4\n",
       "1    1    3       2\n",
       "2    1    4       2\n",
       "3    1    6       2\n",
       "4    1    7       2"
      ]
     },
     "execution_count": 26,
     "metadata": {},
     "output_type": "execute_result"
    }
   ],
   "source": [
    "reviews.head()"
   ]
  },
  {
   "cell_type": "code",
   "execution_count": 34,
   "metadata": {},
   "outputs": [
    {
     "name": "stdout",
     "output_type": "stream",
     "text": [
      "Evaluating RMSE, MAE of algorithm SVD.\n",
      "\n",
      "------------\n",
      "Fold 1\n",
      "RMSE: 1.5457\n",
      "MAE:  1.2750\n",
      "------------\n",
      "Fold 2\n",
      "RMSE: 1.4971\n",
      "MAE:  1.3795\n",
      "------------\n",
      "Fold 3\n",
      "RMSE: 1.6594\n",
      "MAE:  1.6017\n",
      "------------\n",
      "Fold 4\n",
      "RMSE: 1.5593\n",
      "MAE:  1.2290\n",
      "------------\n",
      "Fold 5\n",
      "RMSE: 1.5939\n",
      "MAE:  1.3921\n",
      "------------\n",
      "------------\n",
      "Mean RMSE: 1.5711\n",
      "Mean MAE : 1.3755\n",
      "------------\n",
      "------------\n",
      "user: 1          item: 2          r_ui = 4.00   est = 2.65   {'was_impossible': False}\n"
     ]
    }
   ],
   "source": [
    "# Avaliando performance do algoritmo SVD (Single Value Decomposition)\n",
    "# RMSE = root mean square error\n",
    "# MAE = mean absolute error\n",
    "algo = SVD()\n",
    "evaluate(algo, reviews_set, measures=['RMSE', 'MAE'])"
   ]
  },
  {
   "cell_type": "code",
   "execution_count": null,
   "metadata": {
    "collapsed": true
   },
   "outputs": [],
   "source": [
    "# Construindo dataset para treinar o algoritmo (i.e.: calcular pesos baseado nas features)\n",
    "trainset = reviews_set.build_full_trainset()\n",
    "algo.train(trainset)"
   ]
  },
  {
   "cell_type": "code",
   "execution_count": 39,
   "metadata": {},
   "outputs": [
    {
     "data": {
      "text/html": [
       "<div>\n",
       "<table border=\"1\" class=\"dataframe\">\n",
       "  <thead>\n",
       "    <tr style=\"text-align: right;\">\n",
       "      <th></th>\n",
       "      <th>id</th>\n",
       "      <th>name</th>\n",
       "      <th>category</th>\n",
       "    </tr>\n",
       "  </thead>\n",
       "  <tbody>\n",
       "    <tr>\n",
       "      <th>0</th>\n",
       "      <td>1</td>\n",
       "      <td>Sushi do Samurai</td>\n",
       "      <td>Comida Japonesa</td>\n",
       "    </tr>\n",
       "    <tr>\n",
       "      <th>1</th>\n",
       "      <td>2</td>\n",
       "      <td>Temaki do Naruto</td>\n",
       "      <td>Comida Japonesa</td>\n",
       "    </tr>\n",
       "    <tr>\n",
       "      <th>2</th>\n",
       "      <td>3</td>\n",
       "      <td>Pizzaria Brasil</td>\n",
       "      <td>Pizzaria</td>\n",
       "    </tr>\n",
       "    <tr>\n",
       "      <th>3</th>\n",
       "      <td>4</td>\n",
       "      <td>Pizzaria do Chapéu</td>\n",
       "      <td>Pizzaria</td>\n",
       "    </tr>\n",
       "    <tr>\n",
       "      <th>4</th>\n",
       "      <td>5</td>\n",
       "      <td>Pizza Rápida</td>\n",
       "      <td>Pizzaria</td>\n",
       "    </tr>\n",
       "  </tbody>\n",
       "</table>\n",
       "</div>"
      ],
      "text/plain": [
       "   id                name         category\n",
       "0   1    Sushi do Samurai  Comida Japonesa\n",
       "1   2    Temaki do Naruto  Comida Japonesa\n",
       "2   3     Pizzaria Brasil         Pizzaria\n",
       "3   4  Pizzaria do Chapéu         Pizzaria\n",
       "4   5        Pizza Rápida         Pizzaria"
      ]
     },
     "execution_count": 39,
     "metadata": {},
     "output_type": "execute_result"
    }
   ],
   "source": [
    "places.head()"
   ]
  },
  {
   "cell_type": "code",
   "execution_count": 57,
   "metadata": {},
   "outputs": [
    {
     "name": "stdout",
     "output_type": "stream",
     "text": [
      "Previsão para 'Sushi do Samurai' é 2.65\n",
      "Previsão para 'Temaki do Naruto' é 2.65\n"
     ]
    }
   ],
   "source": [
    "# Prevendo rating do usuário 'Allan' para 'Sushi do Samurai' e 'Temaki do Naruto'\n",
    "allan = 1\n",
    "sushi_do_samurai = 1\n",
    "temaki_do_naruto = 2\n",
    "actual_rating = 4\n",
    "\n",
    "# Previsão para \n",
    "p1 = algo.predict(allan, sushi_do_samurai)\n",
    "p2 = algo.predict(allan, temaki_do_naruto, actual_rating)\n",
    "\n",
    "print(\"Previsão para 'Sushi do Samurai' é \" + str(p1.est))\n",
    "print(\"Previsão para 'Temaki do Naruto' é \" + str(p2.est))\n"
   ]
  },
  {
   "cell_type": "markdown",
   "metadata": {},
   "source": [
    "# Quanto mais dados melhor: exemplo com MovieLens100k\n",
    "\n",
    "Vamos aplicar em uma base de testes maior para avaliar a performance de acordo com o volume de informações. \n",
    "A base de avaliações de filmes 'MovileLens100k' fornecido pelo Grouplens (https://grouplens.org/) contém MovieLens uma base de dados com 100 mil avaliações de 1000 usuários diferentes sobre 1700 filmes lançados até Abril de 1998."
   ]
  },
  {
   "cell_type": "code",
   "execution_count": 60,
   "metadata": {},
   "outputs": [
    {
     "name": "stdout",
     "output_type": "stream",
     "text": [
      "Evaluating RMSE, MAE of algorithm SVD.\n",
      "\n",
      "------------\n",
      "Fold 1\n",
      "RMSE: 0.9341\n",
      "MAE:  0.7379\n",
      "------------\n",
      "Fold 2\n",
      "RMSE: 0.9331\n",
      "MAE:  0.7377\n",
      "------------\n",
      "Fold 3\n",
      "RMSE: 0.9335\n",
      "MAE:  0.7377\n",
      "------------\n",
      "Fold 4\n",
      "RMSE: 0.9410\n",
      "MAE:  0.7401\n",
      "------------\n",
      "Fold 5\n",
      "RMSE: 0.9410\n",
      "MAE:  0.7382\n",
      "------------\n",
      "------------\n",
      "Mean RMSE: 0.9365\n",
      "Mean MAE : 0.7383\n",
      "------------\n",
      "------------\n",
      "user: 196        item: 302        r_ui = 4.00   est = 3.47   {'was_impossible': False}\n"
     ]
    }
   ],
   "source": [
    "# Define the format\n",
    "reader = Reader(line_format='user item rating timestamp', sep='\\t')\n",
    "\n",
    "# Load the data from the file using the reader format\n",
    "data = Dataset.load_from_file('../data/ml-100k/u.data', reader=reader)\n",
    "algo = SVD()\n",
    "evaluate(algo, data, measures=['RMSE', 'MAE'])"
   ]
  },
  {
   "cell_type": "code",
   "execution_count": null,
   "metadata": {
    "collapsed": true
   },
   "outputs": [],
   "source": [
    "# Retrieve the trainset\n",
    "trainset = data.build_full_trainset()\n",
    "algo.train(trainset)"
   ]
  },
  {
   "cell_type": "code",
   "execution_count": null,
   "metadata": {
    "collapsed": true
   },
   "outputs": [],
   "source": [
    "# Predict\n",
    "userid = str(196)\n",
    "itemid = str(302)\n",
    "actual_rating = 4\n",
    "print(algo.predict(userid, 302, 4))"
   ]
  }
 ],
 "metadata": {
  "kernelspec": {
   "display_name": "Python 3",
   "language": "python",
   "name": "python3"
  },
  "language_info": {
   "codemirror_mode": {
    "name": "ipython",
    "version": 3
   },
   "file_extension": ".py",
   "mimetype": "text/x-python",
   "name": "python",
   "nbconvert_exporter": "python",
   "pygments_lexer": "ipython3",
   "version": "3.5.3"
  }
 },
 "nbformat": 4,
 "nbformat_minor": 2
}
